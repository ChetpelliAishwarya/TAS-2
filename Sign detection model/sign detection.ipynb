{
 "cells": [
  {
   "cell_type": "code",
   "execution_count": 1,
   "id": "69dfa241",
   "metadata": {},
   "outputs": [],
   "source": [
    "from keras.utils import to_categorical"
   ]
  },
  {
   "cell_type": "code",
   "execution_count": 2,
   "id": "d9f39901",
   "metadata": {},
   "outputs": [],
   "source": [
    "import os\n",
    "import tensorflow as tf\n",
    "from tensorflow.keras.models import Sequential\n",
    "from tensorflow.keras.layers import Dense, Conv2D, Dropout, Flatten, MaxPooling2D\n",
    "from tensorflow.keras.preprocessing.image import ImageDataGenerator\n",
    "from tensorflow.keras.callbacks import TensorBoard\n"
   ]
  },
  {
   "cell_type": "code",
   "execution_count": 3,
   "id": "f620ba11",
   "metadata": {},
   "outputs": [
    {
     "name": "stdout",
     "output_type": "stream",
     "text": [
      "Contents of train:\n",
      "Root: C:\\Users\\chais\\OneDrive\\Desktop\\SIGN\\train\n",
      "Files: []\n",
      "Directories: ['A', 'B', 'C', 'D', 'del', 'E', 'F', 'G', 'H', 'I', 'J', 'K', 'L', 'M', 'N', 'nothing', 'O', 'P', 'Q', 'R', 'S', 'space', 'T', 'U', 'V', 'W', 'X', 'Y', 'Z']\n",
      "----------------------------------------\n",
      "Root: C:\\Users\\chais\\OneDrive\\Desktop\\SIGN\\train\\A\n",
      "Files: ['A1.jpg', 'A10.jpg', 'A100.jpg', 'A1000.jpg', 'A1001.jpg', 'A1002.jpg']\n",
      "Directories: []\n",
      "----------------------------------------\n",
      "Root: C:\\Users\\chais\\OneDrive\\Desktop\\SIGN\\train\\B\n",
      "Files: ['B1.jpg', 'B10.jpg', 'B100.jpg', 'B1000.jpg', 'B1001.jpg', 'B1002.jpg']\n",
      "Directories: []\n",
      "----------------------------------------\n",
      "Root: C:\\Users\\chais\\OneDrive\\Desktop\\SIGN\\train\\C\n",
      "Files: ['C1.jpg', 'C10.jpg', 'C100.jpg', 'C1000.jpg', 'C1001.jpg', 'C1002.jpg']\n",
      "Directories: []\n",
      "----------------------------------------\n",
      "Root: C:\\Users\\chais\\OneDrive\\Desktop\\SIGN\\train\\D\n",
      "Files: ['D1.jpg', 'D10.jpg', 'D100.jpg', 'D1000.jpg', 'D1001.jpg', 'D1002.jpg']\n",
      "Directories: []\n",
      "----------------------------------------\n",
      "Root: C:\\Users\\chais\\OneDrive\\Desktop\\SIGN\\train\\del\n",
      "Files: ['del1.jpg', 'del10.jpg', 'del100.jpg', 'del1000.jpg', 'del1001.jpg', 'del1002.jpg']\n",
      "Directories: []\n",
      "----------------------------------------\n",
      "Root: C:\\Users\\chais\\OneDrive\\Desktop\\SIGN\\train\\E\n",
      "Files: ['E1.jpg', 'E10.jpg', 'E100.jpg', 'E1000.jpg', 'E1001.jpg', 'E1002.jpg']\n",
      "Directories: []\n",
      "----------------------------------------\n",
      "Root: C:\\Users\\chais\\OneDrive\\Desktop\\SIGN\\train\\F\n",
      "Files: ['F1.jpg', 'F10.jpg', 'F100.jpg', 'F1000.jpg', 'F1001.jpg', 'F1002.jpg']\n",
      "Directories: []\n",
      "----------------------------------------\n",
      "Root: C:\\Users\\chais\\OneDrive\\Desktop\\SIGN\\train\\G\n",
      "Files: ['G1.jpg', 'G10.jpg', 'G100.jpg', 'G1000.jpg', 'G1001.jpg', 'G1002.jpg']\n",
      "Directories: []\n",
      "----------------------------------------\n",
      "Root: C:\\Users\\chais\\OneDrive\\Desktop\\SIGN\\train\\H\n",
      "Files: ['H1.jpg', 'H10.jpg', 'H100.jpg', 'H1000.jpg', 'H1001.jpg', 'H1002.jpg']\n",
      "Directories: []\n",
      "----------------------------------------\n",
      "Root: C:\\Users\\chais\\OneDrive\\Desktop\\SIGN\\train\\I\n",
      "Files: ['I1.jpg', 'I10.jpg', 'I100.jpg', 'I1000.jpg', 'I1001.jpg', 'I1002.jpg']\n",
      "Directories: []\n",
      "----------------------------------------\n",
      "Root: C:\\Users\\chais\\OneDrive\\Desktop\\SIGN\\train\\J\n",
      "Files: ['J1.jpg', 'J10.jpg', 'J100.jpg', 'J1000.jpg', 'J1001.jpg', 'J1002.jpg']\n",
      "Directories: []\n",
      "----------------------------------------\n",
      "Root: C:\\Users\\chais\\OneDrive\\Desktop\\SIGN\\train\\K\n",
      "Files: ['K1.jpg', 'K10.jpg', 'K100.jpg', 'K1000.jpg', 'K1001.jpg', 'K1002.jpg']\n",
      "Directories: []\n",
      "----------------------------------------\n",
      "Root: C:\\Users\\chais\\OneDrive\\Desktop\\SIGN\\train\\L\n",
      "Files: ['L1.jpg', 'L10.jpg', 'L100.jpg', 'L1000.jpg', 'L1001.jpg', 'L1002.jpg']\n",
      "Directories: []\n",
      "----------------------------------------\n",
      "Root: C:\\Users\\chais\\OneDrive\\Desktop\\SIGN\\train\\M\n",
      "Files: ['M1.jpg', 'M10.jpg', 'M100.jpg', 'M1000.jpg', 'M1001.jpg', 'M1002.jpg']\n",
      "Directories: []\n",
      "----------------------------------------\n",
      "Root: C:\\Users\\chais\\OneDrive\\Desktop\\SIGN\\train\\N\n",
      "Files: ['N1.jpg', 'N10.jpg', 'N100.jpg', 'N1000.jpg', 'N1001.jpg', 'N1002.jpg']\n",
      "Directories: []\n",
      "----------------------------------------\n",
      "Root: C:\\Users\\chais\\OneDrive\\Desktop\\SIGN\\train\\nothing\n",
      "Files: ['nothing1.jpg', 'nothing10.jpg', 'nothing100.jpg', 'nothing1000.jpg', 'nothing1001.jpg', 'nothing1002.jpg']\n",
      "Directories: []\n",
      "----------------------------------------\n",
      "Root: C:\\Users\\chais\\OneDrive\\Desktop\\SIGN\\train\\O\n",
      "Files: ['O1.jpg', 'O10.jpg', 'O100.jpg', 'O1000.jpg', 'O1001.jpg', 'O1002.jpg']\n",
      "Directories: []\n",
      "----------------------------------------\n",
      "Root: C:\\Users\\chais\\OneDrive\\Desktop\\SIGN\\train\\P\n",
      "Files: ['P1.jpg', 'P10.jpg', 'P100.jpg', 'P1000.jpg', 'P1001.jpg', 'P1002.jpg']\n",
      "Directories: []\n",
      "----------------------------------------\n",
      "Root: C:\\Users\\chais\\OneDrive\\Desktop\\SIGN\\train\\Q\n",
      "Files: ['Q1.jpg', 'Q10.jpg', 'Q100.jpg', 'Q1000.jpg', 'Q1001.jpg', 'Q1002.jpg']\n",
      "Directories: []\n",
      "----------------------------------------\n",
      "Root: C:\\Users\\chais\\OneDrive\\Desktop\\SIGN\\train\\R\n",
      "Files: ['R1.jpg', 'R10.jpg', 'R100.jpg', 'R1000.jpg', 'R1001.jpg', 'R1002.jpg']\n",
      "Directories: []\n",
      "----------------------------------------\n",
      "Root: C:\\Users\\chais\\OneDrive\\Desktop\\SIGN\\train\\S\n",
      "Files: ['S1.jpg', 'S10.jpg', 'S100.jpg', 'S1000.jpg', 'S1001.jpg', 'S1002.jpg']\n",
      "Directories: []\n",
      "----------------------------------------\n",
      "Root: C:\\Users\\chais\\OneDrive\\Desktop\\SIGN\\train\\space\n",
      "Files: ['space1.jpg', 'space10.jpg', 'space100.jpg', 'space1000.jpg', 'space1001.jpg', 'space1002.jpg']\n",
      "Directories: []\n",
      "----------------------------------------\n",
      "Root: C:\\Users\\chais\\OneDrive\\Desktop\\SIGN\\train\\T\n",
      "Files: ['T1.jpg', 'T10.jpg', 'T100.jpg', 'T1000.jpg', 'T1001.jpg', 'T1002.jpg']\n",
      "Directories: []\n",
      "----------------------------------------\n",
      "Root: C:\\Users\\chais\\OneDrive\\Desktop\\SIGN\\train\\U\n",
      "Files: ['U1.jpg', 'U10.jpg', 'U100.jpg', 'U1000.jpg', 'U1001.jpg', 'U1002.jpg']\n",
      "Directories: []\n",
      "----------------------------------------\n",
      "Root: C:\\Users\\chais\\OneDrive\\Desktop\\SIGN\\train\\V\n",
      "Files: ['V1.jpg', 'V10.jpg', 'V100.jpg', 'V1000.jpg', 'V1001.jpg', 'V1002.jpg']\n",
      "Directories: []\n",
      "----------------------------------------\n",
      "Root: C:\\Users\\chais\\OneDrive\\Desktop\\SIGN\\train\\W\n",
      "Files: ['W1.jpg', 'W10.jpg', 'W100.jpg', 'W1000.jpg', 'W1001.jpg', 'W1002.jpg']\n",
      "Directories: []\n",
      "----------------------------------------\n",
      "Root: C:\\Users\\chais\\OneDrive\\Desktop\\SIGN\\train\\X\n",
      "Files: ['X1.jpg', 'X10.jpg', 'X100.jpg', 'X1000.jpg', 'X1001.jpg', 'X1002.jpg']\n",
      "Directories: []\n",
      "----------------------------------------\n",
      "Root: C:\\Users\\chais\\OneDrive\\Desktop\\SIGN\\train\\Y\n",
      "Files: ['Y1.jpg', 'Y10.jpg', 'Y100.jpg', 'Y1000.jpg', 'Y1001.jpg', 'Y1002.jpg']\n",
      "Directories: []\n",
      "----------------------------------------\n",
      "Root: C:\\Users\\chais\\OneDrive\\Desktop\\SIGN\\train\\Z\n",
      "Files: ['Z1.jpg', 'Z10.jpg', 'Z100.jpg', 'Z1000.jpg', 'Z1001.jpg', 'Z1002.jpg']\n",
      "Directories: []\n",
      "----------------------------------------\n",
      "\n",
      "Contents of test:\n",
      "Root: C:\\Users\\chais\\OneDrive\\Desktop\\SIGN\\test\n",
      "Files: []\n",
      "Directories: ['A', 'B', 'C', 'D', 'del', 'E', 'F', 'G', 'H', 'I', 'J', 'K', 'L', 'M', 'N', 'nothing', 'O', 'p', 'Q', 'R', 'S', 'space', 'T', 'U', 'V', 'W', 'X', 'Y', 'Z']\n",
      "----------------------------------------\n",
      "Root: C:\\Users\\chais\\OneDrive\\Desktop\\SIGN\\test\\A\n",
      "Files: ['A2251.jpg', 'A2252.jpg', 'A2253.jpg', 'A2254.jpg', 'A2255.jpg', 'A2256.jpg']\n",
      "Directories: []\n",
      "----------------------------------------\n",
      "Root: C:\\Users\\chais\\OneDrive\\Desktop\\SIGN\\test\\B\n",
      "Files: ['B2251.jpg', 'B2252.jpg', 'B2253.jpg', 'B2254.jpg', 'B2255.jpg', 'B2256.jpg']\n",
      "Directories: []\n",
      "----------------------------------------\n",
      "Root: C:\\Users\\chais\\OneDrive\\Desktop\\SIGN\\test\\C\n",
      "Files: ['C2251.jpg', 'C2252.jpg', 'C2253.jpg', 'C2254.jpg', 'C2255.jpg', 'C2256.jpg']\n",
      "Directories: []\n",
      "----------------------------------------\n",
      "Root: C:\\Users\\chais\\OneDrive\\Desktop\\SIGN\\test\\D\n",
      "Files: ['D2251.jpg', 'D2252.jpg', 'D2253.jpg', 'D2254.jpg', 'D2255.jpg', 'D2256.jpg']\n",
      "Directories: []\n",
      "----------------------------------------\n",
      "Root: C:\\Users\\chais\\OneDrive\\Desktop\\SIGN\\test\\del\n",
      "Files: ['del1.jpg', 'del2353.jpg', 'del2354.jpg', 'del2355.jpg', 'del2356.jpg', 'del2357.jpg']\n",
      "Directories: []\n",
      "----------------------------------------\n",
      "Root: C:\\Users\\chais\\OneDrive\\Desktop\\SIGN\\test\\E\n",
      "Files: ['E2251.jpg', 'E2252.jpg', 'E2253.jpg', 'E2254.jpg', 'E2255.jpg', 'E2256.jpg']\n",
      "Directories: []\n",
      "----------------------------------------\n",
      "Root: C:\\Users\\chais\\OneDrive\\Desktop\\SIGN\\test\\F\n",
      "Files: ['F2251.jpg', 'F2252.jpg', 'F2253.jpg', 'F2254.jpg', 'F2255.jpg', 'F2256.jpg']\n",
      "Directories: []\n",
      "----------------------------------------\n",
      "Root: C:\\Users\\chais\\OneDrive\\Desktop\\SIGN\\test\\G\n",
      "Files: ['G2251.jpg', 'G2252.jpg', 'G2253.jpg', 'G2254.jpg', 'G2255.jpg', 'G2256.jpg']\n",
      "Directories: []\n",
      "----------------------------------------\n",
      "Root: C:\\Users\\chais\\OneDrive\\Desktop\\SIGN\\test\\H\n",
      "Files: ['H2251.jpg', 'H2252.jpg', 'H2253.jpg', 'H2254.jpg', 'H2255.jpg', 'H2256.jpg']\n",
      "Directories: []\n",
      "----------------------------------------\n",
      "Root: C:\\Users\\chais\\OneDrive\\Desktop\\SIGN\\test\\I\n",
      "Files: ['I2252.jpg', 'I2253.jpg', 'I2254.jpg', 'I2255.jpg', 'I2256.jpg', 'I2257.jpg']\n",
      "Directories: []\n",
      "----------------------------------------\n",
      "Root: C:\\Users\\chais\\OneDrive\\Desktop\\SIGN\\test\\J\n",
      "Files: ['J2251.jpg', 'J2252.jpg', 'J2253.jpg', 'J2254.jpg', 'J2255.jpg', 'J2256.jpg']\n",
      "Directories: []\n",
      "----------------------------------------\n"
     ]
    },
    {
     "name": "stdout",
     "output_type": "stream",
     "text": [
      "Root: C:\\Users\\chais\\OneDrive\\Desktop\\SIGN\\test\\K\n",
      "Files: ['K2251.jpg', 'K2252.jpg', 'K2253.jpg', 'K2254.jpg', 'K2255.jpg', 'K2256.jpg']\n",
      "Directories: []\n",
      "----------------------------------------\n",
      "Root: C:\\Users\\chais\\OneDrive\\Desktop\\SIGN\\test\\L\n",
      "Files: ['L2251.jpg', 'L2252.jpg', 'L2253.jpg', 'L2254.jpg', 'L2255.jpg', 'L2256.jpg']\n",
      "Directories: []\n",
      "----------------------------------------\n",
      "Root: C:\\Users\\chais\\OneDrive\\Desktop\\SIGN\\test\\M\n",
      "Files: ['M2251.jpg', 'M2252.jpg', 'M2253.jpg', 'M2254.jpg', 'M2255.jpg', 'M2256.jpg']\n",
      "Directories: []\n",
      "----------------------------------------\n",
      "Root: C:\\Users\\chais\\OneDrive\\Desktop\\SIGN\\test\\N\n",
      "Files: ['N2251.jpg', 'N2252.jpg', 'N2253.jpg', 'N2254.jpg', 'N2255.jpg', 'N2256.jpg']\n",
      "Directories: []\n",
      "----------------------------------------\n",
      "Root: C:\\Users\\chais\\OneDrive\\Desktop\\SIGN\\test\\nothing\n",
      "Files: ['nothing2251.jpg', 'nothing2252.jpg', 'nothing2253.jpg', 'nothing2254.jpg', 'nothing2255.jpg', 'nothing2256.jpg']\n",
      "Directories: []\n",
      "----------------------------------------\n",
      "Root: C:\\Users\\chais\\OneDrive\\Desktop\\SIGN\\test\\O\n",
      "Files: ['O2251.jpg', 'O2252.jpg', 'O2253.jpg', 'O2254.jpg', 'O2255.jpg', 'O2256.jpg']\n",
      "Directories: []\n",
      "----------------------------------------\n",
      "Root: C:\\Users\\chais\\OneDrive\\Desktop\\SIGN\\test\\p\n",
      "Files: ['P2251.jpg', 'P2252.jpg', 'P2253.jpg', 'P2254.jpg', 'P2255.jpg', 'P2256.jpg']\n",
      "Directories: []\n",
      "----------------------------------------\n",
      "Root: C:\\Users\\chais\\OneDrive\\Desktop\\SIGN\\test\\Q\n",
      "Files: ['Q2251.jpg', 'Q2252.jpg', 'Q2253.jpg', 'Q2254.jpg', 'Q2255.jpg', 'Q2256.jpg']\n",
      "Directories: []\n",
      "----------------------------------------\n",
      "Root: C:\\Users\\chais\\OneDrive\\Desktop\\SIGN\\test\\R\n",
      "Files: ['R2251.jpg', 'R2252.jpg', 'R2253.jpg', 'R2254.jpg', 'R2255.jpg', 'R2256.jpg']\n",
      "Directories: []\n",
      "----------------------------------------\n",
      "Root: C:\\Users\\chais\\OneDrive\\Desktop\\SIGN\\test\\S\n",
      "Files: ['S2251.jpg', 'S2252.jpg', 'S2253.jpg', 'S2254.jpg', 'S2255.jpg', 'S2256.jpg']\n",
      "Directories: []\n",
      "----------------------------------------\n",
      "Root: C:\\Users\\chais\\OneDrive\\Desktop\\SIGN\\test\\space\n",
      "Files: ['space2251.jpg', 'space2252.jpg', 'space2253.jpg', 'space2254.jpg', 'space2255.jpg', 'space2256.jpg']\n",
      "Directories: []\n",
      "----------------------------------------\n",
      "Root: C:\\Users\\chais\\OneDrive\\Desktop\\SIGN\\test\\T\n",
      "Files: ['T2251.jpg', 'T2252.jpg', 'T2253.jpg', 'T2254.jpg', 'T2255.jpg', 'T2256.jpg']\n",
      "Directories: []\n",
      "----------------------------------------\n",
      "Root: C:\\Users\\chais\\OneDrive\\Desktop\\SIGN\\test\\U\n",
      "Files: ['U2251.jpg', 'U2252.jpg', 'U2253.jpg', 'U2254.jpg', 'U2255.jpg', 'U2256.jpg']\n",
      "Directories: []\n",
      "----------------------------------------\n",
      "Root: C:\\Users\\chais\\OneDrive\\Desktop\\SIGN\\test\\V\n",
      "Files: ['V2251.jpg', 'V2252.jpg', 'V2253.jpg', 'V2254.jpg', 'V2255.jpg', 'V2256.jpg']\n",
      "Directories: []\n",
      "----------------------------------------\n",
      "Root: C:\\Users\\chais\\OneDrive\\Desktop\\SIGN\\test\\W\n",
      "Files: ['W2251.jpg', 'W2252.jpg', 'W2253.jpg', 'W2254.jpg', 'W2255.jpg', 'W2256.jpg']\n",
      "Directories: []\n",
      "----------------------------------------\n",
      "Root: C:\\Users\\chais\\OneDrive\\Desktop\\SIGN\\test\\X\n",
      "Files: ['X2251.jpg', 'X2252.jpg', 'X2253.jpg', 'X2254.jpg', 'X2255.jpg', 'X2256.jpg']\n",
      "Directories: []\n",
      "----------------------------------------\n",
      "Root: C:\\Users\\chais\\OneDrive\\Desktop\\SIGN\\test\\Y\n",
      "Files: ['Y2251.jpg', 'Y2252.jpg', 'Y2253.jpg', 'Y2254.jpg', 'Y2255.jpg', 'Y2256.jpg']\n",
      "Directories: []\n",
      "----------------------------------------\n",
      "Root: C:\\Users\\chais\\OneDrive\\Desktop\\SIGN\\test\\Z\n",
      "Files: ['Z2251.jpg', 'Z2252.jpg', 'Z2253.jpg', 'Z2254.jpg', 'Z2255.jpg', 'Z2256.jpg']\n",
      "Directories: []\n",
      "----------------------------------------\n",
      "Found 87000 images belonging to 29 classes.\n",
      "Found 21677 images belonging to 29 classes.\n"
     ]
    }
   ],
   "source": [
    "import os\n",
    "from tensorflow.keras.preprocessing.image import ImageDataGenerator\n",
    "\n",
    "# Function to print directory contents for debugging\n",
    "def print_directory_contents(directory):\n",
    "    for root, dirs, files in os.walk(directory):\n",
    "        print(f\"Root: {root}\")\n",
    "        print(f\"Files: {files[:6]}\") #Prints only first 5 files for brevity\n",
    "        print(f\"Directories: {dirs}\")\n",
    "        print(\"-\" * 40)\n",
    "\n",
    "# Print contents of asl_train and asl_test directories\n",
    "print(\"Contents of train:\")\n",
    "print_directory_contents(r'C:\\Users\\chais\\OneDrive\\Desktop\\SIGN\\train')\n",
    "\n",
    "print(\"\\nContents of test:\")\n",
    "print_directory_contents(r'C:\\Users\\chais\\OneDrive\\Desktop\\SIGN\\test')\n",
    "\n",
    "# Define ImageDataGenerators\n",
    "train_datagen = ImageDataGenerator(rescale=1./255)\n",
    "val_datagen = ImageDataGenerator(rescale=1./255)\n",
    "\n",
    "# Define batch size\n",
    "batch_size = 64\n",
    "\n",
    "# Create train generator\n",
    "train_generator = train_datagen.flow_from_directory(\n",
    "    r'C:\\Users\\chais\\OneDrive\\Desktop\\SIGN\\train',\n",
    "    target_size=(64, 64),\n",
    "    batch_size=batch_size,\n",
    "    class_mode='categorical',\n",
    "    color_mode='grayscale'\n",
    ")\n",
    "\n",
    "# Create validation generator\n",
    "validation_generator = val_datagen.flow_from_directory(\n",
    "    r'C:\\Users\\chais\\OneDrive\\Desktop\\SIGN\\test',\n",
    "    target_size=(64, 64),\n",
    "    batch_size=batch_size,\n",
    "    class_mode='categorical',\n",
    "    color_mode='grayscale'\n",
    ")"
   ]
  },
  {
   "cell_type": "code",
   "execution_count": 4,
   "id": "2001075f",
   "metadata": {},
   "outputs": [
    {
     "name": "stdout",
     "output_type": "stream",
     "text": [
      "['A', 'B', 'C', 'D', 'E', 'F', 'G', 'H', 'I', 'J', 'K', 'L', 'M', 'N', 'O', 'P', 'Q', 'R', 'S', 'T', 'U', 'V', 'W', 'X', 'Y', 'Z', 'del', 'nothing', 'space']\n"
     ]
    }
   ],
   "source": [
    "class_names = list(train_generator.class_indices.keys())\n",
    "print(class_names)"
   ]
  },
  {
   "cell_type": "code",
   "execution_count": 5,
   "id": "a628b719",
   "metadata": {},
   "outputs": [
    {
     "name": "stderr",
     "output_type": "stream",
     "text": [
      "C:\\Users\\chais\\anaconda3\\Lib\\site-packages\\keras\\src\\layers\\convolutional\\base_conv.py:107: UserWarning: Do not pass an `input_shape`/`input_dim` argument to a layer. When using Sequential models, prefer using an `Input(shape)` object as the first layer in the model instead.\n",
      "  super().__init__(activity_regularizer=activity_regularizer, **kwargs)\n"
     ]
    }
   ],
   "source": [
    "from tensorflow.keras.models import Sequential\n",
    "from tensorflow.keras.layers import Conv2D, MaxPooling2D, Dropout, Flatten, Dense\n",
    "\n",
    "model = Sequential()\n",
    "# Convolutional layers\n",
    "model.add(Conv2D(128, kernel_size=(3,3), activation='relu', input_shape=(64, 64, 1)))  \n",
    "model.add(MaxPooling2D(pool_size=(2,2)))\n",
    "model.add(Dropout(0.4))\n",
    "\n",
    "model.add(Conv2D(256, kernel_size=(3,3), activation='relu'))\n",
    "model.add(MaxPooling2D(pool_size=(2,2)))\n",
    "model.add(Dropout(0.4))\n",
    "\n",
    "model.add(Conv2D(512, kernel_size=(3,3), activation='relu'))\n",
    "model.add(MaxPooling2D(pool_size=(2,2)))\n",
    "model.add(Dropout(0.4))\n",
    "\n",
    "model.add(Conv2D(512, kernel_size=(3,3), activation='relu'))\n",
    "model.add(MaxPooling2D(pool_size=(2,2)))\n",
    "model.add(Dropout(0.4))\n",
    "\n",
    "model.add(Flatten())\n",
    "\n",
    "# Fully connected layers\n",
    "model.add(Dense(512, activation='relu'))\n",
    "model.add(Dropout(0.4))\n",
    "model.add(Dense(256, activation='relu'))  \n",
    "model.add(Dropout(0.3))\n",
    "model.add(Dense(128, activation='relu'))\n",
    "model.add(Dropout(0.2))\n",
    "\n",
    "# Output layer\n",
    "model.add(Dense(29, activation='softmax'))  "
   ]
  },
  {
   "cell_type": "code",
   "execution_count": 6,
   "id": "39d840f9",
   "metadata": {},
   "outputs": [
    {
     "data": {
      "text/html": [
       "<pre style=\"white-space:pre;overflow-x:auto;line-height:normal;font-family:Menlo,'DejaVu Sans Mono',consolas,'Courier New',monospace\"><span style=\"font-weight: bold\">Model: \"sequential\"</span>\n",
       "</pre>\n"
      ],
      "text/plain": [
       "\u001b[1mModel: \"sequential\"\u001b[0m\n"
      ]
     },
     "metadata": {},
     "output_type": "display_data"
    },
    {
     "data": {
      "text/html": [
       "<pre style=\"white-space:pre;overflow-x:auto;line-height:normal;font-family:Menlo,'DejaVu Sans Mono',consolas,'Courier New',monospace\">┏━━━━━━━━━━━━━━━━━━━━━━━━━━━━━━━━━━━━━━┳━━━━━━━━━━━━━━━━━━━━━━━━━━━━━┳━━━━━━━━━━━━━━━━━┓\n",
       "┃<span style=\"font-weight: bold\"> Layer (type)                         </span>┃<span style=\"font-weight: bold\"> Output Shape                </span>┃<span style=\"font-weight: bold\">         Param # </span>┃\n",
       "┡━━━━━━━━━━━━━━━━━━━━━━━━━━━━━━━━━━━━━━╇━━━━━━━━━━━━━━━━━━━━━━━━━━━━━╇━━━━━━━━━━━━━━━━━┩\n",
       "│ conv2d (<span style=\"color: #0087ff; text-decoration-color: #0087ff\">Conv2D</span>)                      │ (<span style=\"color: #00d7ff; text-decoration-color: #00d7ff\">None</span>, <span style=\"color: #00af00; text-decoration-color: #00af00\">62</span>, <span style=\"color: #00af00; text-decoration-color: #00af00\">62</span>, <span style=\"color: #00af00; text-decoration-color: #00af00\">128</span>)         │           <span style=\"color: #00af00; text-decoration-color: #00af00\">1,280</span> │\n",
       "├──────────────────────────────────────┼─────────────────────────────┼─────────────────┤\n",
       "│ max_pooling2d (<span style=\"color: #0087ff; text-decoration-color: #0087ff\">MaxPooling2D</span>)         │ (<span style=\"color: #00d7ff; text-decoration-color: #00d7ff\">None</span>, <span style=\"color: #00af00; text-decoration-color: #00af00\">31</span>, <span style=\"color: #00af00; text-decoration-color: #00af00\">31</span>, <span style=\"color: #00af00; text-decoration-color: #00af00\">128</span>)         │               <span style=\"color: #00af00; text-decoration-color: #00af00\">0</span> │\n",
       "├──────────────────────────────────────┼─────────────────────────────┼─────────────────┤\n",
       "│ dropout (<span style=\"color: #0087ff; text-decoration-color: #0087ff\">Dropout</span>)                    │ (<span style=\"color: #00d7ff; text-decoration-color: #00d7ff\">None</span>, <span style=\"color: #00af00; text-decoration-color: #00af00\">31</span>, <span style=\"color: #00af00; text-decoration-color: #00af00\">31</span>, <span style=\"color: #00af00; text-decoration-color: #00af00\">128</span>)         │               <span style=\"color: #00af00; text-decoration-color: #00af00\">0</span> │\n",
       "├──────────────────────────────────────┼─────────────────────────────┼─────────────────┤\n",
       "│ conv2d_1 (<span style=\"color: #0087ff; text-decoration-color: #0087ff\">Conv2D</span>)                    │ (<span style=\"color: #00d7ff; text-decoration-color: #00d7ff\">None</span>, <span style=\"color: #00af00; text-decoration-color: #00af00\">29</span>, <span style=\"color: #00af00; text-decoration-color: #00af00\">29</span>, <span style=\"color: #00af00; text-decoration-color: #00af00\">256</span>)         │         <span style=\"color: #00af00; text-decoration-color: #00af00\">295,168</span> │\n",
       "├──────────────────────────────────────┼─────────────────────────────┼─────────────────┤\n",
       "│ max_pooling2d_1 (<span style=\"color: #0087ff; text-decoration-color: #0087ff\">MaxPooling2D</span>)       │ (<span style=\"color: #00d7ff; text-decoration-color: #00d7ff\">None</span>, <span style=\"color: #00af00; text-decoration-color: #00af00\">14</span>, <span style=\"color: #00af00; text-decoration-color: #00af00\">14</span>, <span style=\"color: #00af00; text-decoration-color: #00af00\">256</span>)         │               <span style=\"color: #00af00; text-decoration-color: #00af00\">0</span> │\n",
       "├──────────────────────────────────────┼─────────────────────────────┼─────────────────┤\n",
       "│ dropout_1 (<span style=\"color: #0087ff; text-decoration-color: #0087ff\">Dropout</span>)                  │ (<span style=\"color: #00d7ff; text-decoration-color: #00d7ff\">None</span>, <span style=\"color: #00af00; text-decoration-color: #00af00\">14</span>, <span style=\"color: #00af00; text-decoration-color: #00af00\">14</span>, <span style=\"color: #00af00; text-decoration-color: #00af00\">256</span>)         │               <span style=\"color: #00af00; text-decoration-color: #00af00\">0</span> │\n",
       "├──────────────────────────────────────┼─────────────────────────────┼─────────────────┤\n",
       "│ conv2d_2 (<span style=\"color: #0087ff; text-decoration-color: #0087ff\">Conv2D</span>)                    │ (<span style=\"color: #00d7ff; text-decoration-color: #00d7ff\">None</span>, <span style=\"color: #00af00; text-decoration-color: #00af00\">12</span>, <span style=\"color: #00af00; text-decoration-color: #00af00\">12</span>, <span style=\"color: #00af00; text-decoration-color: #00af00\">512</span>)         │       <span style=\"color: #00af00; text-decoration-color: #00af00\">1,180,160</span> │\n",
       "├──────────────────────────────────────┼─────────────────────────────┼─────────────────┤\n",
       "│ max_pooling2d_2 (<span style=\"color: #0087ff; text-decoration-color: #0087ff\">MaxPooling2D</span>)       │ (<span style=\"color: #00d7ff; text-decoration-color: #00d7ff\">None</span>, <span style=\"color: #00af00; text-decoration-color: #00af00\">6</span>, <span style=\"color: #00af00; text-decoration-color: #00af00\">6</span>, <span style=\"color: #00af00; text-decoration-color: #00af00\">512</span>)           │               <span style=\"color: #00af00; text-decoration-color: #00af00\">0</span> │\n",
       "├──────────────────────────────────────┼─────────────────────────────┼─────────────────┤\n",
       "│ dropout_2 (<span style=\"color: #0087ff; text-decoration-color: #0087ff\">Dropout</span>)                  │ (<span style=\"color: #00d7ff; text-decoration-color: #00d7ff\">None</span>, <span style=\"color: #00af00; text-decoration-color: #00af00\">6</span>, <span style=\"color: #00af00; text-decoration-color: #00af00\">6</span>, <span style=\"color: #00af00; text-decoration-color: #00af00\">512</span>)           │               <span style=\"color: #00af00; text-decoration-color: #00af00\">0</span> │\n",
       "├──────────────────────────────────────┼─────────────────────────────┼─────────────────┤\n",
       "│ conv2d_3 (<span style=\"color: #0087ff; text-decoration-color: #0087ff\">Conv2D</span>)                    │ (<span style=\"color: #00d7ff; text-decoration-color: #00d7ff\">None</span>, <span style=\"color: #00af00; text-decoration-color: #00af00\">4</span>, <span style=\"color: #00af00; text-decoration-color: #00af00\">4</span>, <span style=\"color: #00af00; text-decoration-color: #00af00\">512</span>)           │       <span style=\"color: #00af00; text-decoration-color: #00af00\">2,359,808</span> │\n",
       "├──────────────────────────────────────┼─────────────────────────────┼─────────────────┤\n",
       "│ max_pooling2d_3 (<span style=\"color: #0087ff; text-decoration-color: #0087ff\">MaxPooling2D</span>)       │ (<span style=\"color: #00d7ff; text-decoration-color: #00d7ff\">None</span>, <span style=\"color: #00af00; text-decoration-color: #00af00\">2</span>, <span style=\"color: #00af00; text-decoration-color: #00af00\">2</span>, <span style=\"color: #00af00; text-decoration-color: #00af00\">512</span>)           │               <span style=\"color: #00af00; text-decoration-color: #00af00\">0</span> │\n",
       "├──────────────────────────────────────┼─────────────────────────────┼─────────────────┤\n",
       "│ dropout_3 (<span style=\"color: #0087ff; text-decoration-color: #0087ff\">Dropout</span>)                  │ (<span style=\"color: #00d7ff; text-decoration-color: #00d7ff\">None</span>, <span style=\"color: #00af00; text-decoration-color: #00af00\">2</span>, <span style=\"color: #00af00; text-decoration-color: #00af00\">2</span>, <span style=\"color: #00af00; text-decoration-color: #00af00\">512</span>)           │               <span style=\"color: #00af00; text-decoration-color: #00af00\">0</span> │\n",
       "├──────────────────────────────────────┼─────────────────────────────┼─────────────────┤\n",
       "│ flatten (<span style=\"color: #0087ff; text-decoration-color: #0087ff\">Flatten</span>)                    │ (<span style=\"color: #00d7ff; text-decoration-color: #00d7ff\">None</span>, <span style=\"color: #00af00; text-decoration-color: #00af00\">2048</span>)                │               <span style=\"color: #00af00; text-decoration-color: #00af00\">0</span> │\n",
       "├──────────────────────────────────────┼─────────────────────────────┼─────────────────┤\n",
       "│ dense (<span style=\"color: #0087ff; text-decoration-color: #0087ff\">Dense</span>)                        │ (<span style=\"color: #00d7ff; text-decoration-color: #00d7ff\">None</span>, <span style=\"color: #00af00; text-decoration-color: #00af00\">512</span>)                 │       <span style=\"color: #00af00; text-decoration-color: #00af00\">1,049,088</span> │\n",
       "├──────────────────────────────────────┼─────────────────────────────┼─────────────────┤\n",
       "│ dropout_4 (<span style=\"color: #0087ff; text-decoration-color: #0087ff\">Dropout</span>)                  │ (<span style=\"color: #00d7ff; text-decoration-color: #00d7ff\">None</span>, <span style=\"color: #00af00; text-decoration-color: #00af00\">512</span>)                 │               <span style=\"color: #00af00; text-decoration-color: #00af00\">0</span> │\n",
       "├──────────────────────────────────────┼─────────────────────────────┼─────────────────┤\n",
       "│ dense_1 (<span style=\"color: #0087ff; text-decoration-color: #0087ff\">Dense</span>)                      │ (<span style=\"color: #00d7ff; text-decoration-color: #00d7ff\">None</span>, <span style=\"color: #00af00; text-decoration-color: #00af00\">256</span>)                 │         <span style=\"color: #00af00; text-decoration-color: #00af00\">131,328</span> │\n",
       "├──────────────────────────────────────┼─────────────────────────────┼─────────────────┤\n",
       "│ dropout_5 (<span style=\"color: #0087ff; text-decoration-color: #0087ff\">Dropout</span>)                  │ (<span style=\"color: #00d7ff; text-decoration-color: #00d7ff\">None</span>, <span style=\"color: #00af00; text-decoration-color: #00af00\">256</span>)                 │               <span style=\"color: #00af00; text-decoration-color: #00af00\">0</span> │\n",
       "├──────────────────────────────────────┼─────────────────────────────┼─────────────────┤\n",
       "│ dense_2 (<span style=\"color: #0087ff; text-decoration-color: #0087ff\">Dense</span>)                      │ (<span style=\"color: #00d7ff; text-decoration-color: #00d7ff\">None</span>, <span style=\"color: #00af00; text-decoration-color: #00af00\">128</span>)                 │          <span style=\"color: #00af00; text-decoration-color: #00af00\">32,896</span> │\n",
       "├──────────────────────────────────────┼─────────────────────────────┼─────────────────┤\n",
       "│ dropout_6 (<span style=\"color: #0087ff; text-decoration-color: #0087ff\">Dropout</span>)                  │ (<span style=\"color: #00d7ff; text-decoration-color: #00d7ff\">None</span>, <span style=\"color: #00af00; text-decoration-color: #00af00\">128</span>)                 │               <span style=\"color: #00af00; text-decoration-color: #00af00\">0</span> │\n",
       "├──────────────────────────────────────┼─────────────────────────────┼─────────────────┤\n",
       "│ dense_3 (<span style=\"color: #0087ff; text-decoration-color: #0087ff\">Dense</span>)                      │ (<span style=\"color: #00d7ff; text-decoration-color: #00d7ff\">None</span>, <span style=\"color: #00af00; text-decoration-color: #00af00\">29</span>)                  │           <span style=\"color: #00af00; text-decoration-color: #00af00\">3,741</span> │\n",
       "└──────────────────────────────────────┴─────────────────────────────┴─────────────────┘\n",
       "</pre>\n"
      ],
      "text/plain": [
       "┏━━━━━━━━━━━━━━━━━━━━━━━━━━━━━━━━━━━━━━┳━━━━━━━━━━━━━━━━━━━━━━━━━━━━━┳━━━━━━━━━━━━━━━━━┓\n",
       "┃\u001b[1m \u001b[0m\u001b[1mLayer (type)                        \u001b[0m\u001b[1m \u001b[0m┃\u001b[1m \u001b[0m\u001b[1mOutput Shape               \u001b[0m\u001b[1m \u001b[0m┃\u001b[1m \u001b[0m\u001b[1m        Param #\u001b[0m\u001b[1m \u001b[0m┃\n",
       "┡━━━━━━━━━━━━━━━━━━━━━━━━━━━━━━━━━━━━━━╇━━━━━━━━━━━━━━━━━━━━━━━━━━━━━╇━━━━━━━━━━━━━━━━━┩\n",
       "│ conv2d (\u001b[38;5;33mConv2D\u001b[0m)                      │ (\u001b[38;5;45mNone\u001b[0m, \u001b[38;5;34m62\u001b[0m, \u001b[38;5;34m62\u001b[0m, \u001b[38;5;34m128\u001b[0m)         │           \u001b[38;5;34m1,280\u001b[0m │\n",
       "├──────────────────────────────────────┼─────────────────────────────┼─────────────────┤\n",
       "│ max_pooling2d (\u001b[38;5;33mMaxPooling2D\u001b[0m)         │ (\u001b[38;5;45mNone\u001b[0m, \u001b[38;5;34m31\u001b[0m, \u001b[38;5;34m31\u001b[0m, \u001b[38;5;34m128\u001b[0m)         │               \u001b[38;5;34m0\u001b[0m │\n",
       "├──────────────────────────────────────┼─────────────────────────────┼─────────────────┤\n",
       "│ dropout (\u001b[38;5;33mDropout\u001b[0m)                    │ (\u001b[38;5;45mNone\u001b[0m, \u001b[38;5;34m31\u001b[0m, \u001b[38;5;34m31\u001b[0m, \u001b[38;5;34m128\u001b[0m)         │               \u001b[38;5;34m0\u001b[0m │\n",
       "├──────────────────────────────────────┼─────────────────────────────┼─────────────────┤\n",
       "│ conv2d_1 (\u001b[38;5;33mConv2D\u001b[0m)                    │ (\u001b[38;5;45mNone\u001b[0m, \u001b[38;5;34m29\u001b[0m, \u001b[38;5;34m29\u001b[0m, \u001b[38;5;34m256\u001b[0m)         │         \u001b[38;5;34m295,168\u001b[0m │\n",
       "├──────────────────────────────────────┼─────────────────────────────┼─────────────────┤\n",
       "│ max_pooling2d_1 (\u001b[38;5;33mMaxPooling2D\u001b[0m)       │ (\u001b[38;5;45mNone\u001b[0m, \u001b[38;5;34m14\u001b[0m, \u001b[38;5;34m14\u001b[0m, \u001b[38;5;34m256\u001b[0m)         │               \u001b[38;5;34m0\u001b[0m │\n",
       "├──────────────────────────────────────┼─────────────────────────────┼─────────────────┤\n",
       "│ dropout_1 (\u001b[38;5;33mDropout\u001b[0m)                  │ (\u001b[38;5;45mNone\u001b[0m, \u001b[38;5;34m14\u001b[0m, \u001b[38;5;34m14\u001b[0m, \u001b[38;5;34m256\u001b[0m)         │               \u001b[38;5;34m0\u001b[0m │\n",
       "├──────────────────────────────────────┼─────────────────────────────┼─────────────────┤\n",
       "│ conv2d_2 (\u001b[38;5;33mConv2D\u001b[0m)                    │ (\u001b[38;5;45mNone\u001b[0m, \u001b[38;5;34m12\u001b[0m, \u001b[38;5;34m12\u001b[0m, \u001b[38;5;34m512\u001b[0m)         │       \u001b[38;5;34m1,180,160\u001b[0m │\n",
       "├──────────────────────────────────────┼─────────────────────────────┼─────────────────┤\n",
       "│ max_pooling2d_2 (\u001b[38;5;33mMaxPooling2D\u001b[0m)       │ (\u001b[38;5;45mNone\u001b[0m, \u001b[38;5;34m6\u001b[0m, \u001b[38;5;34m6\u001b[0m, \u001b[38;5;34m512\u001b[0m)           │               \u001b[38;5;34m0\u001b[0m │\n",
       "├──────────────────────────────────────┼─────────────────────────────┼─────────────────┤\n",
       "│ dropout_2 (\u001b[38;5;33mDropout\u001b[0m)                  │ (\u001b[38;5;45mNone\u001b[0m, \u001b[38;5;34m6\u001b[0m, \u001b[38;5;34m6\u001b[0m, \u001b[38;5;34m512\u001b[0m)           │               \u001b[38;5;34m0\u001b[0m │\n",
       "├──────────────────────────────────────┼─────────────────────────────┼─────────────────┤\n",
       "│ conv2d_3 (\u001b[38;5;33mConv2D\u001b[0m)                    │ (\u001b[38;5;45mNone\u001b[0m, \u001b[38;5;34m4\u001b[0m, \u001b[38;5;34m4\u001b[0m, \u001b[38;5;34m512\u001b[0m)           │       \u001b[38;5;34m2,359,808\u001b[0m │\n",
       "├──────────────────────────────────────┼─────────────────────────────┼─────────────────┤\n",
       "│ max_pooling2d_3 (\u001b[38;5;33mMaxPooling2D\u001b[0m)       │ (\u001b[38;5;45mNone\u001b[0m, \u001b[38;5;34m2\u001b[0m, \u001b[38;5;34m2\u001b[0m, \u001b[38;5;34m512\u001b[0m)           │               \u001b[38;5;34m0\u001b[0m │\n",
       "├──────────────────────────────────────┼─────────────────────────────┼─────────────────┤\n",
       "│ dropout_3 (\u001b[38;5;33mDropout\u001b[0m)                  │ (\u001b[38;5;45mNone\u001b[0m, \u001b[38;5;34m2\u001b[0m, \u001b[38;5;34m2\u001b[0m, \u001b[38;5;34m512\u001b[0m)           │               \u001b[38;5;34m0\u001b[0m │\n",
       "├──────────────────────────────────────┼─────────────────────────────┼─────────────────┤\n",
       "│ flatten (\u001b[38;5;33mFlatten\u001b[0m)                    │ (\u001b[38;5;45mNone\u001b[0m, \u001b[38;5;34m2048\u001b[0m)                │               \u001b[38;5;34m0\u001b[0m │\n",
       "├──────────────────────────────────────┼─────────────────────────────┼─────────────────┤\n",
       "│ dense (\u001b[38;5;33mDense\u001b[0m)                        │ (\u001b[38;5;45mNone\u001b[0m, \u001b[38;5;34m512\u001b[0m)                 │       \u001b[38;5;34m1,049,088\u001b[0m │\n",
       "├──────────────────────────────────────┼─────────────────────────────┼─────────────────┤\n",
       "│ dropout_4 (\u001b[38;5;33mDropout\u001b[0m)                  │ (\u001b[38;5;45mNone\u001b[0m, \u001b[38;5;34m512\u001b[0m)                 │               \u001b[38;5;34m0\u001b[0m │\n",
       "├──────────────────────────────────────┼─────────────────────────────┼─────────────────┤\n",
       "│ dense_1 (\u001b[38;5;33mDense\u001b[0m)                      │ (\u001b[38;5;45mNone\u001b[0m, \u001b[38;5;34m256\u001b[0m)                 │         \u001b[38;5;34m131,328\u001b[0m │\n",
       "├──────────────────────────────────────┼─────────────────────────────┼─────────────────┤\n",
       "│ dropout_5 (\u001b[38;5;33mDropout\u001b[0m)                  │ (\u001b[38;5;45mNone\u001b[0m, \u001b[38;5;34m256\u001b[0m)                 │               \u001b[38;5;34m0\u001b[0m │\n",
       "├──────────────────────────────────────┼─────────────────────────────┼─────────────────┤\n",
       "│ dense_2 (\u001b[38;5;33mDense\u001b[0m)                      │ (\u001b[38;5;45mNone\u001b[0m, \u001b[38;5;34m128\u001b[0m)                 │          \u001b[38;5;34m32,896\u001b[0m │\n",
       "├──────────────────────────────────────┼─────────────────────────────┼─────────────────┤\n",
       "│ dropout_6 (\u001b[38;5;33mDropout\u001b[0m)                  │ (\u001b[38;5;45mNone\u001b[0m, \u001b[38;5;34m128\u001b[0m)                 │               \u001b[38;5;34m0\u001b[0m │\n",
       "├──────────────────────────────────────┼─────────────────────────────┼─────────────────┤\n",
       "│ dense_3 (\u001b[38;5;33mDense\u001b[0m)                      │ (\u001b[38;5;45mNone\u001b[0m, \u001b[38;5;34m29\u001b[0m)                  │           \u001b[38;5;34m3,741\u001b[0m │\n",
       "└──────────────────────────────────────┴─────────────────────────────┴─────────────────┘\n"
      ]
     },
     "metadata": {},
     "output_type": "display_data"
    },
    {
     "data": {
      "text/html": [
       "<pre style=\"white-space:pre;overflow-x:auto;line-height:normal;font-family:Menlo,'DejaVu Sans Mono',consolas,'Courier New',monospace\"><span style=\"font-weight: bold\"> Total params: </span><span style=\"color: #00af00; text-decoration-color: #00af00\">5,053,469</span> (19.28 MB)\n",
       "</pre>\n"
      ],
      "text/plain": [
       "\u001b[1m Total params: \u001b[0m\u001b[38;5;34m5,053,469\u001b[0m (19.28 MB)\n"
      ]
     },
     "metadata": {},
     "output_type": "display_data"
    },
    {
     "data": {
      "text/html": [
       "<pre style=\"white-space:pre;overflow-x:auto;line-height:normal;font-family:Menlo,'DejaVu Sans Mono',consolas,'Courier New',monospace\"><span style=\"font-weight: bold\"> Trainable params: </span><span style=\"color: #00af00; text-decoration-color: #00af00\">5,053,469</span> (19.28 MB)\n",
       "</pre>\n"
      ],
      "text/plain": [
       "\u001b[1m Trainable params: \u001b[0m\u001b[38;5;34m5,053,469\u001b[0m (19.28 MB)\n"
      ]
     },
     "metadata": {},
     "output_type": "display_data"
    },
    {
     "data": {
      "text/html": [
       "<pre style=\"white-space:pre;overflow-x:auto;line-height:normal;font-family:Menlo,'DejaVu Sans Mono',consolas,'Courier New',monospace\"><span style=\"font-weight: bold\"> Non-trainable params: </span><span style=\"color: #00af00; text-decoration-color: #00af00\">0</span> (0.00 B)\n",
       "</pre>\n"
      ],
      "text/plain": [
       "\u001b[1m Non-trainable params: \u001b[0m\u001b[38;5;34m0\u001b[0m (0.00 B)\n"
      ]
     },
     "metadata": {},
     "output_type": "display_data"
    }
   ],
   "source": [
    "# Summary of the model\n",
    "model.summary()"
   ]
  },
  {
   "cell_type": "code",
   "execution_count": 8,
   "id": "c4908505",
   "metadata": {},
   "outputs": [
    {
     "name": "stdout",
     "output_type": "stream",
     "text": [
      "Epoch 1/10\n",
      "\u001b[1m1359/1359\u001b[0m \u001b[32m━━━━━━━━━━━━━━━━━━━━\u001b[0m\u001b[37m\u001b[0m \u001b[1m2559s\u001b[0m 2s/step - accuracy: 0.9535 - loss: 0.1619 - val_accuracy: 0.5547 - val_loss: 17.6116\n",
      "Epoch 2/10\n",
      "\u001b[1m1359/1359\u001b[0m \u001b[32m━━━━━━━━━━━━━━━━━━━━\u001b[0m\u001b[37m\u001b[0m \u001b[1m1s\u001b[0m 433us/step - accuracy: 0.9688 - loss: 0.1517 - val_accuracy: 0.5556 - val_loss: 17.7817\n",
      "Epoch 3/10\n",
      "\u001b[1m1359/1359\u001b[0m \u001b[32m━━━━━━━━━━━━━━━━━━━━\u001b[0m\u001b[37m\u001b[0m \u001b[1m4023s\u001b[0m 3s/step - accuracy: 0.9578 - loss: 0.1474 - val_accuracy: 0.5549 - val_loss: 19.5830\n",
      "Epoch 4/10\n",
      "\u001b[1m1359/1359\u001b[0m \u001b[32m━━━━━━━━━━━━━━━━━━━━\u001b[0m\u001b[37m\u001b[0m \u001b[1m1s\u001b[0m 302us/step - accuracy: 1.0000 - loss: 0.0225 - val_accuracy: 0.5778 - val_loss: 18.5900\n",
      "Epoch 5/10\n",
      "\u001b[1m1359/1359\u001b[0m \u001b[32m━━━━━━━━━━━━━━━━━━━━\u001b[0m\u001b[37m\u001b[0m \u001b[1m7479s\u001b[0m 6s/step - accuracy: 0.9633 - loss: 0.1309 - val_accuracy: 0.5538 - val_loss: 19.9811\n",
      "Epoch 6/10\n",
      "\u001b[1m1359/1359\u001b[0m \u001b[32m━━━━━━━━━━━━━━━━━━━━\u001b[0m\u001b[37m\u001b[0m \u001b[1m2s\u001b[0m 426us/step - accuracy: 0.9688 - loss: 0.0456 - val_accuracy: 0.5778 - val_loss: 21.1042\n",
      "Epoch 7/10\n",
      "\u001b[1m1359/1359\u001b[0m \u001b[32m━━━━━━━━━━━━━━━━━━━━\u001b[0m\u001b[37m\u001b[0m \u001b[1m2600s\u001b[0m 2s/step - accuracy: 0.9631 - loss: 0.1282 - val_accuracy: 0.5532 - val_loss: 24.1307\n",
      "Epoch 8/10\n",
      "\u001b[1m1359/1359\u001b[0m \u001b[32m━━━━━━━━━━━━━━━━━━━━\u001b[0m\u001b[37m\u001b[0m \u001b[1m1s\u001b[0m 347us/step - accuracy: 0.9844 - loss: 0.0975 - val_accuracy: 0.5111 - val_loss: 19.7881\n",
      "Epoch 9/10\n",
      "\u001b[1m1359/1359\u001b[0m \u001b[32m━━━━━━━━━━━━━━━━━━━━\u001b[0m\u001b[37m\u001b[0m \u001b[1m2231s\u001b[0m 2s/step - accuracy: 0.9640 - loss: 0.1403 - val_accuracy: 0.5546 - val_loss: 25.2297\n",
      "Epoch 10/10\n",
      "\u001b[1m1359/1359\u001b[0m \u001b[32m━━━━━━━━━━━━━━━━━━━━\u001b[0m\u001b[37m\u001b[0m \u001b[1m1s\u001b[0m 291us/step - accuracy: 0.9688 - loss: 0.1897 - val_accuracy: 0.4889 - val_loss: 28.9923\n"
     ]
    },
    {
     "data": {
      "text/plain": [
       "<keras.src.callbacks.history.History at 0x18d502e2090>"
      ]
     },
     "execution_count": 8,
     "metadata": {},
     "output_type": "execute_result"
    }
   ],
   "source": [
    "import os\n",
    "from tensorflow.keras.callbacks import TensorBoard\n",
    "from tensorflow.keras.optimizers import Adam\n",
    "\n",
    "# Define the log directory for TensorBoard\n",
    "logdir = \"Logs\"\n",
    "\n",
    "# Ensure the log directory exists\n",
    "if not os.path.exists(logdir):\n",
    "    os.makedirs(logdir)\n",
    "\n",
    "# Compile the model\n",
    "model.compile(\n",
    "    optimizer=Adam(learning_rate=0.001),\n",
    "    loss='categorical_crossentropy',\n",
    "    metrics=['accuracy']\n",
    ")\n",
    "\n",
    "# Initialize TensorBoard callback\n",
    "tensorboard_callback = TensorBoard(log_dir=logdir)\n",
    "\n",
    "# Training\n",
    "model.fit(\n",
    "    train_generator,\n",
    "    steps_per_epoch=train_generator.samples // batch_size,\n",
    "    epochs=10,\n",
    "    validation_data=validation_generator,\n",
    "    validation_steps=validation_generator.samples // batch_size,\n",
    "    callbacks=[tensorboard_callback]\n",
    ")\n",
    "\n"
   ]
  },
  {
   "cell_type": "code",
   "execution_count": 12,
   "id": "9ebe249b",
   "metadata": {},
   "outputs": [],
   "source": [
    "model_json = model.to_json()\n",
    "with open(r\"C:\\Users\\chais\\Desktop\\SIGN DETECTION\\signlanguagedetectionmodel.json\",'w') as json_file:\n",
    "    json_file.write(model_json)"
   ]
  },
  {
   "cell_type": "code",
   "execution_count": 14,
   "id": "9a719ff4",
   "metadata": {},
   "outputs": [
    {
     "name": "stderr",
     "output_type": "stream",
     "text": [
      "WARNING:absl:You are saving your model as an HDF5 file via `model.save()` or `keras.saving.save_model(model)`. This file format is considered legacy. We recommend using instead the native Keras format, e.g. `model.save('my_model.keras')` or `keras.saving.save_model(model, 'my_model.keras')`. \n"
     ]
    }
   ],
   "source": [
    "model.save(r\"C:\\Users\\chais\\Desktop\\SIGN DETECTION\\signlanguagedetectionmodel.h5\")"
   ]
  },
  {
   "cell_type": "code",
   "execution_count": 15,
   "id": "7820f568",
   "metadata": {},
   "outputs": [
    {
     "name": "stderr",
     "output_type": "stream",
     "text": [
      "WARNING:absl:Compiled the loaded model, but the compiled metrics have yet to be built. `model.compile_metrics` will be empty until you train or evaluate the model.\n"
     ]
    }
   ],
   "source": [
    "import cv2\n",
    "import numpy as np\n",
    "from tensorflow.keras.models import load_model\n",
    "from tensorflow.keras.preprocessing import image\n",
    "\n",
    "\n",
    "model = load_model(r\"C:\\Users\\chais\\Desktop\\SIGN DETECTION\\signlanguagedetectionmodel.h5\")"
   ]
  },
  {
   "cell_type": "code",
   "execution_count": 16,
   "id": "1c298019",
   "metadata": {},
   "outputs": [],
   "source": [
    "# Function to preprocess input image\n",
    "def preprocess_image(image_path):\n",
    "    img = image.load_img(image_path, target_size=(64, 64), color_mode='grayscale')\n",
    "    img_array = image.img_to_array(img)\n",
    "    img_array = np.expand_dims(img_array, axis=0)\n",
    "    img_array /= 255.0  # Normalize the image\n",
    "    return img_array"
   ]
  },
  {
   "cell_type": "code",
   "execution_count": 17,
   "id": "d9e9d220",
   "metadata": {},
   "outputs": [],
   "source": [
    "# Function to predict sign language gesture from image\n",
    "def predict_sign_language(image_path):\n",
    "    img_array = preprocess_image(image_path)\n",
    "    predictions = model.predict(img_array)\n",
    "    predicted_class_index = np.argmax(predictions[0])\n",
    "    return predicted_class_index"
   ]
  },
  {
   "cell_type": "code",
   "execution_count": 18,
   "id": "31b6ce0a",
   "metadata": {},
   "outputs": [
    {
     "name": "stdout",
     "output_type": "stream",
     "text": [
      "\u001b[1m1/1\u001b[0m \u001b[32m━━━━━━━━━━━━━━━━━━━━\u001b[0m\u001b[37m\u001b[0m \u001b[1m1s\u001b[0m 647ms/step\n",
      "Predicted class index: 0\n"
     ]
    }
   ],
   "source": [
    "image_path = r\"C:\\Users\\chais\\OneDrive\\Desktop\\SIGN\\test\\A\\A_test.jpg\"# Replace with the path to your image\n",
    "predicted_class_index = predict_sign_language(image_path)\n",
    "print(f\"Predicted class index: {predicted_class_index}\")"
   ]
  },
  {
   "cell_type": "code",
   "execution_count": null,
   "id": "2766d220",
   "metadata": {},
   "outputs": [],
   "source": []
  }
 ],
 "metadata": {
  "kernelspec": {
   "display_name": "Python 3 (ipykernel)",
   "language": "python",
   "name": "python3"
  },
  "language_info": {
   "codemirror_mode": {
    "name": "ipython",
    "version": 3
   },
   "file_extension": ".py",
   "mimetype": "text/x-python",
   "name": "python",
   "nbconvert_exporter": "python",
   "pygments_lexer": "ipython3",
   "version": "3.11.4"
  }
 },
 "nbformat": 4,
 "nbformat_minor": 5
}
